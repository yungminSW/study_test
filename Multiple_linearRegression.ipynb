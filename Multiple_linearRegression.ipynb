{
  "nbformat": 4,
  "nbformat_minor": 0,
  "metadata": {
    "colab": {
      "name": "Multiple_linearRegression.ipynb",
      "private_outputs": true,
      "provenance": [],
      "authorship_tag": "ABX9TyPA1DGeKhRfd1tIoX12M/Wg",
      "include_colab_link": true
    },
    "kernelspec": {
      "name": "python3",
      "display_name": "Python 3"
    },
    "language_info": {
      "name": "python"
    }
  },
  "cells": [
    {
      "cell_type": "markdown",
      "metadata": {
        "id": "view-in-github",
        "colab_type": "text"
      },
      "source": [
        "<a href=\"https://colab.research.google.com/github/yungminSW/study_test/blob/main/Multiple_linearRegression.ipynb\" target=\"_parent\"><img src=\"https://colab.research.google.com/assets/colab-badge.svg\" alt=\"Open In Colab\"/></a>"
      ]
    },
    {
      "cell_type": "code",
      "execution_count": null,
      "metadata": {
        "id": "kpeRLceHL6d2"
      },
      "outputs": [],
      "source": [
        "import pandas as pd\n",
        "import numpy as np\n",
        "import math\n",
        "import matplotlib.pyplot as plt\n",
        "# Load dataset\n",
        "from sklearn.datasets import load_boston \n",
        "boston_ds = load_boston()"
      ]
    },
    {
      "cell_type": "code",
      "source": [
        "frame = pd.DataFrame(boston_ds.data)\n",
        "frame_ = pd.DataFrame(boston_ds.data, columns = boston_ds.feature_names)\n",
        "# add target \n",
        "frame['target'] = boston_ds.target\n",
        "frame_['target'] = boston_ds.target\n",
        "print(frame_)"
      ],
      "metadata": {
        "id": "nAmUwkpoMgyt"
      },
      "execution_count": null,
      "outputs": []
    },
    {
      "cell_type": "code",
      "source": [
        "# number of data points\n",
        "N = len(frame[0])\n",
        "# dimension of input space\n",
        "dim = 13\n",
        "# make constant matrix X\n",
        "X = np.reshape(np.ones_like(frame[0]), (N,1))\n",
        "for i in range(dim):\n",
        "  X = np.concatenate((X, np.reshape(np.array(frame[i]), (N,1))), axis = 1)\n",
        "print('X.shape = ', X.shape)\n",
        "print(X)"
      ],
      "metadata": {
        "id": "9NcoUbXRPII0"
      },
      "execution_count": null,
      "outputs": []
    },
    {
      "cell_type": "code",
      "source": [
        "# LSE for B in the model y = XB + e\n",
        "y = np.reshape(np.array(frame['target']), (N,1))\n",
        "B_hat = np.matmul(np.matmul(np.linalg.inv((np.matmul(X.T,X))), X.T), y)\n",
        "print('estimated B = ')\n",
        "print(B_hat)\n",
        "\n",
        "# predicted y\n",
        "y_hat = np.matmul(X, B_hat)\n",
        "\n",
        "# estimator for std(y)\n",
        "s = math.sqrt(np.sum(np.power(y - np.matmul(X,B_hat),2)) / (N - dim - 1))\n",
        "\n",
        "# estimator for variance of B_hat\n",
        "cov_B = s**2 * np.linalg.inv((np.matmul(X.T,X)))\n",
        "var_B_hat = cov_B.diagonal()\n",
        "std_B_hat = np.sqrt(var_B_hat)\n",
        "print('estimated VAR[B] = ')\n",
        "print(np.reshape(var_B_hat, (dim+1,1)))\n",
        "\n",
        "# get adjusted R^2\n",
        "SSR = np.sum(np.power(y_hat - y,2))\n",
        "SST = np.sum(np.power(y- np.mean(y),2))\n",
        "R_2 = SSR/SST\n",
        "adj_R_2 = ((N - 1)*(1 - R_2)) / (N - dim - 1)\n",
        "print('Adusted R^2  = ', adj_R_2)"
      ],
      "metadata": {
        "id": "rhxhT5PjTM8x"
      },
      "execution_count": null,
      "outputs": []
    },
    {
      "cell_type": "code",
      "source": [
        "def t_distribution(dof):\n",
        "  end = 10\n",
        "  N = 1000\n",
        "  t = np.linspace(-end, end, N)\n",
        "  if dof <= 100 :\n",
        "    T = (math.gamma((dof+1)/2) / (math.gamma(dof/2)*math.sqrt(math.pi * dof))) \\\n",
        "      * np.power((1 + np.power(t,2)/dof), -(dof + 1) / 2.)\n",
        "  \n",
        "  # If dof is large enough, then T(dof) = N(0.1)\n",
        "  else:\n",
        "    mu = 0.\n",
        "    var = 1.0\n",
        "    T = (1 / np.sqrt(2 * np.pi * var**2)) * np.exp(-(t-mu)**2 / (2 * var**2))\n",
        "  return (2 * end / N),t, T\n",
        "\n",
        "# get t-distribution \n",
        "delta, t, t_dist = t_distribution(N - dim - 1)\n",
        "\n",
        "'''Hypothesis test'''\n",
        "# observed t\n",
        "O_t = np.divide(np.squeeze(B_hat), std_B_hat)\n",
        "print('Observed t-value = ')\n",
        "print(np.reshape(O_t, (dim+1,1)))\n",
        "# get P-value\n",
        "P = np.zeros_like(O_t)\n",
        "for i in range(len(O_t)):\n",
        "  result = np.where(np.abs(t) > abs(O_t[i]), t_dist, np.zeros_like(t))\n",
        "  P[i] = np.sum(result) * delta\n",
        "print('P-value = ')\n",
        "print(np.reshape(P, (dim+1,1)))\n"
      ],
      "metadata": {
        "id": "gNGdH6sZ4t5B"
      },
      "execution_count": null,
      "outputs": []
    },
    {
      "cell_type": "code",
      "source": [
        "plt.scatter(frame_['INDUS'], frame_['target'], alpha=0.4)"
      ],
      "metadata": {
        "id": "eMfl-AMbHvkE"
      },
      "execution_count": null,
      "outputs": []
    },
    {
      "cell_type": "code",
      "source": [
        "plt.scatter(frame_['AGE'], frame_['target'], alpha=0.4)"
      ],
      "metadata": {
        "id": "LtUDmwJoH1a6"
      },
      "execution_count": null,
      "outputs": []
    },
    {
      "cell_type": "code",
      "source": [
        "plt.scatter(frame_['RM'], frame_['target'], alpha=0.4)"
      ],
      "metadata": {
        "id": "1c4Rh24VJWs1"
      },
      "execution_count": null,
      "outputs": []
    }
  ]
}